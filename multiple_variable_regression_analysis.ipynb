{
 "cells": [
  {
   "cell_type": "code",
   "execution_count": null,
   "source": [
    "# importing sys\r\n",
    "import sys\r\n",
    "# adding Plot to the system path\r\n",
    "sys.path.insert(0, '/Users/nathan d/Desktop/Python/Plot')\r\n",
    "\r\n",
    "\r\n",
    "#dependencies\r\n",
    "import Plot\r\n",
    "import numpy as np\r\n",
    "import pandas as pd\r\n",
    "import matplotlib.pyplot as plt\r\n",
    "from sklearn.model_selection import train_test_split\r\n",
    "#models\r\n",
    "from sklearn.linear_model import LinearRegression\r\n",
    "from sklearn.preprocessing import PolynomialFeatures\r\n",
    "from sklearn.tree import DecisionTreeRegressor\r\n",
    "from sklearn.ensemble import RandomForestRegressor\r\n",
    "from sklearn.preprocessing import StandardScaler\r\n",
    "from sklearn.svm import SVR\r\n",
    "#metrics\r\n",
    "from sklearn.metrics import r2_score, mean_squared_error, mean_absolute_error"
   ],
   "outputs": [],
   "metadata": {}
  },
  {
   "cell_type": "code",
   "execution_count": null,
   "source": [
    "#importing the dataset\r\n",
    "dataset = pd.read_csv('Diamonds.csv')\r\n",
    "independant = dataset.iloc[:,:-1].values\r\n",
    "dependant = dataset.iloc[:,-1].values"
   ],
   "outputs": [],
   "metadata": {}
  },
  {
   "cell_type": "code",
   "execution_count": null,
   "source": [
    "#Inspect data"
   ],
   "outputs": [],
   "metadata": {}
  },
  {
   "cell_type": "code",
   "execution_count": null,
   "source": [
    "#splitting independant and dependant variables into a train and test set\r\n",
    "independant_train, independant_test, dependant_train, dependant_test = train_test_split(independant, dependant, train_size=0.8, random_state=0)"
   ],
   "outputs": [],
   "metadata": {}
  },
  {
   "cell_type": "code",
   "execution_count": null,
   "source": [
    "#To-do\r\n",
    "#Add EDA plots\r\n",
    "#Dimensionality reduction\r\n",
    "#Regression modeling\r\n",
    "#Parameter optimisation and cross validation - will need to check the ordering of these two\r\n",
    "#Output key statistics\r\n",
    "#Plots if reduced down to 2D"
   ],
   "outputs": [],
   "metadata": {}
  }
 ],
 "metadata": {
  "orig_nbformat": 4,
  "language_info": {
   "name": "python"
  }
 },
 "nbformat": 4,
 "nbformat_minor": 2
}